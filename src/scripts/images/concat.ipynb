{
 "cells": [
  {
   "cell_type": "code",
   "execution_count": 2,
   "metadata": {},
   "outputs": [
    {
     "name": "stdout",
     "output_type": "stream",
     "text": [
      "Collecting pandas\n",
      "  Downloading pandas-1.1.4-cp38-cp38-macosx_10_9_x86_64.whl (10.1 MB)\n",
      "\u001b[K     |████████████████████████████████| 10.1 MB 10.4 MB/s eta 0:00:01\n",
      "\u001b[?25hCollecting numpy>=1.15.4\n",
      "  Using cached numpy-1.19.4-cp38-cp38-macosx_10_9_x86_64.whl (15.3 MB)\n",
      "Collecting pytz>=2017.2\n",
      "  Using cached pytz-2020.4-py2.py3-none-any.whl (509 kB)\n",
      "Requirement already satisfied: python-dateutil>=2.7.3 in /Users/guillaumequispe/miniconda3/lib/python3.8/site-packages (from pandas) (2.8.1)\n",
      "Requirement already satisfied: six>=1.5 in /Users/guillaumequispe/miniconda3/lib/python3.8/site-packages (from python-dateutil>=2.7.3->pandas) (1.15.0)\n",
      "Installing collected packages: numpy, pytz, pandas\n",
      "Successfully installed numpy-1.19.4 pandas-1.1.4 pytz-2020.4\n"
     ]
    }
   ],
   "source": [
    "!pip install pandas"
   ]
  },
  {
   "cell_type": "code",
   "execution_count": 3,
   "metadata": {},
   "outputs": [],
   "source": [
    "import pandas as pd"
   ]
  },
  {
   "cell_type": "code",
   "execution_count": 33,
   "metadata": {},
   "outputs": [],
   "source": [
    "df_coco_train=pd.read_csv(\"../../../data/drive/image_ids_train_coco.csv\", index_col=\"id_image\",dtype={'id_image': str})\n",
    "df_coco_val=pd.read_csv(\"../../../data/drive/image_ids_val_coco.csv\", index_col=\"id_image\",dtype={'id_image': str})\n",
    "df_coco_test=pd.read_csv(\"../../../data/drive/image_ids_test_coco.csv\", index_col=\"id_image\",dtype={'id_image': str})"
   ]
  },
  {
   "cell_type": "code",
   "execution_count": 34,
   "metadata": {},
   "outputs": [
    {
     "data": {
      "text/html": [
       "<div>\n",
       "<style scoped>\n",
       "    .dataframe tbody tr th:only-of-type {\n",
       "        vertical-align: middle;\n",
       "    }\n",
       "\n",
       "    .dataframe tbody tr th {\n",
       "        vertical-align: top;\n",
       "    }\n",
       "\n",
       "    .dataframe thead th {\n",
       "        text-align: right;\n",
       "    }\n",
       "</style>\n",
       "<table border=\"1\" class=\"dataframe\">\n",
       "  <thead>\n",
       "    <tr style=\"text-align: right;\">\n",
       "      <th></th>\n",
       "      <th>id_google</th>\n",
       "    </tr>\n",
       "    <tr>\n",
       "      <th>id_image</th>\n",
       "      <th></th>\n",
       "    </tr>\n",
       "  </thead>\n",
       "  <tbody>\n",
       "    <tr>\n",
       "      <th>244410</th>\n",
       "      <td>1FOIG1JqnnN8f-lUDXUO7R1dDL4RFzfia</td>\n",
       "    </tr>\n",
       "    <tr>\n",
       "      <th>167126</th>\n",
       "      <td>147zVrHumEPcBowYJhQ0xC4_k1S4eXiNa</td>\n",
       "    </tr>\n",
       "    <tr>\n",
       "      <th>260448</th>\n",
       "      <td>1S5kvfaMVuXmarnjLlc5b1ZIiUw8u9sSU</td>\n",
       "    </tr>\n",
       "    <tr>\n",
       "      <th>58267</th>\n",
       "      <td>14HDAVO7Qq-xcXiUYQXUPGN1hxkfxUGd7</td>\n",
       "    </tr>\n",
       "    <tr>\n",
       "      <th>102090</th>\n",
       "      <td>1KeucU2WDu06whSCVFRITr_nOx8TKDiSI</td>\n",
       "    </tr>\n",
       "  </tbody>\n",
       "</table>\n",
       "</div>"
      ],
      "text/plain": [
       "                                  id_google\n",
       "id_image                                   \n",
       "244410    1FOIG1JqnnN8f-lUDXUO7R1dDL4RFzfia\n",
       "167126    147zVrHumEPcBowYJhQ0xC4_k1S4eXiNa\n",
       "260448    1S5kvfaMVuXmarnjLlc5b1ZIiUw8u9sSU\n",
       "58267     14HDAVO7Qq-xcXiUYQXUPGN1hxkfxUGd7\n",
       "102090    1KeucU2WDu06whSCVFRITr_nOx8TKDiSI"
      ]
     },
     "execution_count": 34,
     "metadata": {},
     "output_type": "execute_result"
    }
   ],
   "source": [
    "df_coco_train.head()"
   ]
  },
  {
   "cell_type": "code",
   "execution_count": 32,
   "metadata": {},
   "outputs": [],
   "source": [
    "df_coco=pd.concat([df_coco_train,df_coco_val, df_coco_test])"
   ]
  },
  {
   "cell_type": "code",
   "execution_count": 29,
   "metadata": {},
   "outputs": [],
   "source": [
    "df_coco.to_csv(\"../../../data/drive/coco.csv\")"
   ]
  },
  {
   "cell_type": "code",
   "execution_count": 36,
   "metadata": {},
   "outputs": [],
   "source": [
    "df_clevr_train=pd.read_csv(\"../../../data/drive/image_ids_train_clevr.csv\", index_col=\"id_image\",dtype={'id_image': str})\n",
    "df_clevr_val=pd.read_csv(\"../../../data/drive/image_ids_val_clevr.csv\", index_col=\"id_image\",dtype={'id_image': str})\n",
    "df_clevr_test=pd.read_csv(\"../../../data/drive/image_ids_test_clevr.csv\", index_col=\"id_image\",dtype={'id_image': str})"
   ]
  },
  {
   "cell_type": "code",
   "execution_count": 38,
   "metadata": {},
   "outputs": [],
   "source": [
    "df_clevr=pd.concat([df_clevr_train,df_clevr_val, df_clevr_test])"
   ]
  },
  {
   "cell_type": "code",
   "execution_count": 39,
   "metadata": {},
   "outputs": [],
   "source": [
    "df_clevr.to_csv(\"../../../data/drive/clevr.csv\")"
   ]
  },
  {
   "cell_type": "code",
   "execution_count": null,
   "metadata": {},
   "outputs": [],
   "source": []
  }
 ],
 "metadata": {
  "kernelspec": {
   "display_name": "Python 3",
   "language": "python",
   "name": "python3"
  },
  "language_info": {
   "codemirror_mode": {
    "name": "ipython",
    "version": 3
   },
   "file_extension": ".py",
   "mimetype": "text/x-python",
   "name": "python",
   "nbconvert_exporter": "python",
   "pygments_lexer": "ipython3",
   "version": "3.8.5"
  }
 },
 "nbformat": 4,
 "nbformat_minor": 4
}
