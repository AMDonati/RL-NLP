{
 "cells": [
  {
   "cell_type": "code",
   "execution_count": 35,
   "metadata": {},
   "outputs": [
    {
     "name": "stderr",
     "output_type": "stream",
     "text": [
      "[nltk_data] Downloading package punkt to\n",
      "[nltk_data]     /Users/guillaumequispe/nltk_data...\n",
      "[nltk_data]   Unzipping tokenizers/punkt.zip.\n"
     ]
    },
    {
     "data": {
      "text/plain": [
       "True"
      ]
     },
     "execution_count": 35,
     "metadata": {},
     "output_type": "execute_result"
    }
   ],
   "source": [
    "from nltk.probability import FreqDist\n",
    "import pandas as pd\n",
    "from nltk.tokenize import word_tokenize\n",
    "import nltk\n",
    "nltk.download('punkt')"
   ]
  },
  {
   "cell_type": "code",
   "execution_count": 36,
   "metadata": {},
   "outputs": [],
   "source": [
    "import json\n",
    "\n",
    "with open('../../data/CLEVR_v1.0/temp/50000_20000_samples/train_questions.json') as json_file:\n",
    "    data = json.load(json_file)"
   ]
  },
  {
   "cell_type": "code",
   "execution_count": 37,
   "metadata": {},
   "outputs": [],
   "source": [
    "df=pd.read_json(json.dumps(data[\"questions\"] ))"
   ]
  },
  {
   "cell_type": "code",
   "execution_count": 38,
   "metadata": {},
   "outputs": [
    {
     "data": {
      "text/html": [
       "<div>\n",
       "<style scoped>\n",
       "    .dataframe tbody tr th:only-of-type {\n",
       "        vertical-align: middle;\n",
       "    }\n",
       "\n",
       "    .dataframe tbody tr th {\n",
       "        vertical-align: top;\n",
       "    }\n",
       "\n",
       "    .dataframe thead th {\n",
       "        text-align: right;\n",
       "    }\n",
       "</style>\n",
       "<table border=\"1\" class=\"dataframe\">\n",
       "  <thead>\n",
       "    <tr style=\"text-align: right;\">\n",
       "      <th></th>\n",
       "      <th>answer</th>\n",
       "      <th>image_filename</th>\n",
       "      <th>image_index</th>\n",
       "      <th>program</th>\n",
       "      <th>question</th>\n",
       "      <th>question_family_index</th>\n",
       "      <th>question_index</th>\n",
       "      <th>split</th>\n",
       "    </tr>\n",
       "  </thead>\n",
       "  <tbody>\n",
       "    <tr>\n",
       "      <th>0</th>\n",
       "      <td>yes</td>\n",
       "      <td>CLEVR_train_000000.png</td>\n",
       "      <td>0</td>\n",
       "      <td>[{'inputs': [], 'function': 'scene', 'value_in...</td>\n",
       "      <td>Are there more big green things than large pur...</td>\n",
       "      <td>2</td>\n",
       "      <td>0</td>\n",
       "      <td>train</td>\n",
       "    </tr>\n",
       "    <tr>\n",
       "      <th>1</th>\n",
       "      <td>2</td>\n",
       "      <td>CLEVR_train_000000.png</td>\n",
       "      <td>0</td>\n",
       "      <td>[{'inputs': [], 'function': 'scene', 'value_in...</td>\n",
       "      <td>How many other things are there of the same sh...</td>\n",
       "      <td>43</td>\n",
       "      <td>1</td>\n",
       "      <td>train</td>\n",
       "    </tr>\n",
       "    <tr>\n",
       "      <th>2</th>\n",
       "      <td>no</td>\n",
       "      <td>CLEVR_train_000000.png</td>\n",
       "      <td>0</td>\n",
       "      <td>[{'inputs': [], 'function': 'scene', 'value_in...</td>\n",
       "      <td>Is the color of the large sphere the same as t...</td>\n",
       "      <td>10</td>\n",
       "      <td>2</td>\n",
       "      <td>train</td>\n",
       "    </tr>\n",
       "    <tr>\n",
       "      <th>3</th>\n",
       "      <td>rubber</td>\n",
       "      <td>CLEVR_train_000000.png</td>\n",
       "      <td>0</td>\n",
       "      <td>[{'inputs': [], 'function': 'scene', 'value_in...</td>\n",
       "      <td>What material is the big object that is right ...</td>\n",
       "      <td>34</td>\n",
       "      <td>3</td>\n",
       "      <td>train</td>\n",
       "    </tr>\n",
       "    <tr>\n",
       "      <th>4</th>\n",
       "      <td>large</td>\n",
       "      <td>CLEVR_train_000000.png</td>\n",
       "      <td>0</td>\n",
       "      <td>[{'inputs': [], 'function': 'scene', 'value_in...</td>\n",
       "      <td>How big is the brown shiny sphere?</td>\n",
       "      <td>89</td>\n",
       "      <td>4</td>\n",
       "      <td>train</td>\n",
       "    </tr>\n",
       "  </tbody>\n",
       "</table>\n",
       "</div>"
      ],
      "text/plain": [
       "   answer          image_filename  image_index  \\\n",
       "0     yes  CLEVR_train_000000.png            0   \n",
       "1       2  CLEVR_train_000000.png            0   \n",
       "2      no  CLEVR_train_000000.png            0   \n",
       "3  rubber  CLEVR_train_000000.png            0   \n",
       "4   large  CLEVR_train_000000.png            0   \n",
       "\n",
       "                                             program  \\\n",
       "0  [{'inputs': [], 'function': 'scene', 'value_in...   \n",
       "1  [{'inputs': [], 'function': 'scene', 'value_in...   \n",
       "2  [{'inputs': [], 'function': 'scene', 'value_in...   \n",
       "3  [{'inputs': [], 'function': 'scene', 'value_in...   \n",
       "4  [{'inputs': [], 'function': 'scene', 'value_in...   \n",
       "\n",
       "                                            question  question_family_index  \\\n",
       "0  Are there more big green things than large pur...                      2   \n",
       "1  How many other things are there of the same sh...                     43   \n",
       "2  Is the color of the large sphere the same as t...                     10   \n",
       "3  What material is the big object that is right ...                     34   \n",
       "4                 How big is the brown shiny sphere?                     89   \n",
       "\n",
       "   question_index  split  \n",
       "0               0  train  \n",
       "1               1  train  \n",
       "2               2  train  \n",
       "3               3  train  \n",
       "4               4  train  "
      ]
     },
     "execution_count": 38,
     "metadata": {},
     "output_type": "execute_result"
    }
   ],
   "source": [
    "df.head()"
   ]
  },
  {
   "cell_type": "code",
   "execution_count": 44,
   "metadata": {},
   "outputs": [],
   "source": [
    "token=word_tokenize(\" \".join(df.question))"
   ]
  },
  {
   "cell_type": "code",
   "execution_count": 45,
   "metadata": {},
   "outputs": [],
   "source": [
    "fdist = FreqDist(token)"
   ]
  },
  {
   "cell_type": "code",
   "execution_count": 46,
   "metadata": {},
   "outputs": [
    {
     "data": {
      "text/plain": [
       "FreqDist({'the': 128384, 'of': 53852, 'is': 53424, '?': 49923, 'that': 29117, 'same': 25132, 'thing': 24304, 'object': 23267, 'as': 22548, 'cylinder': 15972, ...})"
      ]
     },
     "execution_count": 46,
     "metadata": {},
     "output_type": "execute_result"
    }
   ],
   "source": [
    "fdist"
   ]
  },
  {
   "cell_type": "code",
   "execution_count": 48,
   "metadata": {},
   "outputs": [
    {
     "data": {
      "text/plain": [
       "[('the', 128384),\n",
       " ('of', 53852),\n",
       " ('is', 53424),\n",
       " ('?', 49923),\n",
       " ('that', 29117),\n",
       " ('same', 25132),\n",
       " ('thing', 24304),\n",
       " ('object', 23267),\n",
       " ('as', 22548),\n",
       " ('cylinder', 15972),\n",
       " ('are', 15638),\n",
       " ('big', 15329),\n",
       " ('small', 15307),\n",
       " ('tiny', 15171),\n",
       " ('rubber', 14942),\n",
       " ('matte', 14799),\n",
       " ('large', 14618),\n",
       " ('What', 13314),\n",
       " ('a', 12247),\n",
       " ('There', 11162),\n",
       " (';', 11162),\n",
       " ('number', 10864),\n",
       " ('shape', 10806),\n",
       " ('behind', 10688),\n",
       " ('in', 10667),\n",
       " ('front', 10667),\n",
       " ('left', 10599),\n",
       " ('there', 10498),\n",
       " ('right', 10489),\n",
       " ('color', 10426)]"
      ]
     },
     "execution_count": 48,
     "metadata": {},
     "output_type": "execute_result"
    }
   ],
   "source": [
    "fdist1 = fdist.most_common(30)\n",
    "fdist1"
   ]
  },
  {
   "cell_type": "code",
   "execution_count": null,
   "metadata": {},
   "outputs": [],
   "source": []
  }
 ],
 "metadata": {
  "kernelspec": {
   "display_name": "Python 3",
   "language": "python",
   "name": "python3"
  },
  "language_info": {
   "codemirror_mode": {
    "name": "ipython",
    "version": 3
   },
   "file_extension": ".py",
   "mimetype": "text/x-python",
   "name": "python",
   "nbconvert_exporter": "python",
   "pygments_lexer": "ipython3",
   "version": "3.7.3"
  },
  "nbTranslate": {
   "displayLangs": [
    "*"
   ],
   "hotkey": "alt-t",
   "langInMainMenu": true,
   "sourceLang": "en",
   "targetLang": "fr",
   "useGoogleTranslate": true
  },
  "toc": {
   "base_numbering": 1.0,
   "nav_menu": {},
   "number_sections": true,
   "sideBar": true,
   "skip_h1_title": false,
   "title_cell": "Table of Contents",
   "title_sidebar": "Contents",
   "toc_cell": false,
   "toc_position": {},
   "toc_section_display": true,
   "toc_window_display": false
  },
  "varInspector": {
   "cols": {
    "lenName": 16.0,
    "lenType": 16.0,
    "lenVar": 40.0
   },
   "kernels_config": {
    "python": {
     "delete_cmd_postfix": "",
     "delete_cmd_prefix": "del ",
     "library": "var_list.py",
     "varRefreshCmd": "print(var_dic_list())"
    },
    "r": {
     "delete_cmd_postfix": ") ",
     "delete_cmd_prefix": "rm(",
     "library": "var_list.r",
     "varRefreshCmd": "cat(var_dic_list()) "
    }
   },
   "types_to_exclude": [
    "module",
    "function",
    "builtin_function_or_method",
    "instance",
    "_Feature"
   ],
   "window_display": false
  }
 },
 "nbformat": 4,
 "nbformat_minor": 4
}
