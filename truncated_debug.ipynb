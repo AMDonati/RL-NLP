{
  "nbformat": 4,
  "nbformat_minor": 0,
  "metadata": {
    "colab": {
      "name": "truncated_debug.ipynb",
      "provenance": [],
      "collapsed_sections": [],
      "include_colab_link": true
    },
    "kernelspec": {
      "name": "python3",
      "display_name": "Python 3"
    },
    "accelerator": "GPU"
  },
  "cells": [
    {
      "cell_type": "markdown",
      "metadata": {
        "id": "view-in-github",
        "colab_type": "text"
      },
      "source": [
        "<a href=\"https://colab.research.google.com/github/AMDonati/RL-NLP/blob/experiments_low_scale/truncated_debug.ipynb\" target=\"_parent\"><img src=\"https://colab.research.google.com/assets/colab-badge.svg\" alt=\"Open In Colab\"/></a>"
      ]
    },
    {
      "cell_type": "markdown",
      "metadata": {
        "id": "cFZ34Lfi0O6f",
        "colab_type": "text"
      },
      "source": [
        "# Truncated action space\n",
        "The goal of this notebook is to test if the truncation of the action by a pretrained language model ease the learning process\n"
      ]
    },
    {
      "cell_type": "code",
      "metadata": {
        "id": "HrZsjHw7necf",
        "colab_type": "code",
        "outputId": "5f7cb588-154f-4be6-cb11-539369373722",
        "colab": {
          "base_uri": "https://localhost:8080/",
          "height": 122
        }
      },
      "source": [
        "from google.colab import drive\n",
        "drive.mount('/content/drive')"
      ],
      "execution_count": 1,
      "outputs": [
        {
          "output_type": "stream",
          "text": [
            "Go to this URL in a browser: https://accounts.google.com/o/oauth2/auth?client_id=947318989803-6bn6qk8qdgf4n4g3pfee6491hc0brc4i.apps.googleusercontent.com&redirect_uri=urn%3aietf%3awg%3aoauth%3a2.0%3aoob&response_type=code&scope=email%20https%3a%2f%2fwww.googleapis.com%2fauth%2fdocs.test%20https%3a%2f%2fwww.googleapis.com%2fauth%2fdrive%20https%3a%2f%2fwww.googleapis.com%2fauth%2fdrive.photos.readonly%20https%3a%2f%2fwww.googleapis.com%2fauth%2fpeopleapi.readonly\n",
            "\n",
            "Enter your authorization code:\n",
            "··········\n",
            "Mounted at /content/drive\n"
          ],
          "name": "stdout"
        }
      ]
    },
    {
      "cell_type": "code",
      "metadata": {
        "id": "67P0GmXnvmUN",
        "colab_type": "code",
        "colab": {}
      },
      "source": [
        "%load_ext tensorboard"
      ],
      "execution_count": 0,
      "outputs": []
    },
    {
      "cell_type": "code",
      "metadata": {
        "id": "Bs8v-3ZPngtE",
        "colab_type": "code",
        "outputId": "ff41dfc9-eed0-48f5-8307-0a1ea311cd0c",
        "colab": {
          "base_uri": "https://localhost:8080/",
          "height": 34
        }
      },
      "source": [
        "cd drive/My\\ Drive"
      ],
      "execution_count": 3,
      "outputs": [
        {
          "output_type": "stream",
          "text": [
            "/content/drive/My Drive\n"
          ],
          "name": "stdout"
        }
      ]
    },
    {
      "cell_type": "code",
      "metadata": {
        "id": "3f2V8ErUn2Yg",
        "colab_type": "code",
        "colab": {}
      },
      "source": [
        "#!git clone https://github.com/AMDonati/RL-NLP.git"
      ],
      "execution_count": 0,
      "outputs": []
    },
    {
      "cell_type": "code",
      "metadata": {
        "id": "LatYbGHdrfAf",
        "colab_type": "code",
        "outputId": "a1dd2f0d-df6e-45e9-9e06-febc49ea39f8",
        "colab": {
          "base_uri": "https://localhost:8080/",
          "height": 34
        }
      },
      "source": [
        "cd RL-NLP/"
      ],
      "execution_count": 5,
      "outputs": [
        {
          "output_type": "stream",
          "text": [
            "/content/drive/My Drive/RL-NLP\n"
          ],
          "name": "stdout"
        }
      ]
    },
    {
      "cell_type": "code",
      "metadata": {
        "id": "zw_Kur5uyWT-",
        "colab_type": "code",
        "colab": {}
      },
      "source": [
        "!git fetch"
      ],
      "execution_count": 0,
      "outputs": []
    },
    {
      "cell_type": "code",
      "metadata": {
        "id": "bEy6R67lxxGe",
        "colab_type": "code",
        "outputId": "e515fff3-ae1b-4eac-eeda-1bcb034cc232",
        "colab": {
          "base_uri": "https://localhost:8080/",
          "height": 68
        }
      },
      "source": [
        "!git checkout experiments_low_scale"
      ],
      "execution_count": 7,
      "outputs": [
        {
          "output_type": "stream",
          "text": [
            "M\tsrc/scripts/run.py\n",
            "Already on 'experiments_low_scale'\n",
            "Your branch is up to date with 'origin/experiments_low_scale'.\n"
          ],
          "name": "stdout"
        }
      ]
    },
    {
      "cell_type": "code",
      "metadata": {
        "id": "1B47nTXjsLen",
        "colab_type": "code",
        "colab": {}
      },
      "source": [
        "#rm src/scripts/run.py"
      ],
      "execution_count": 0,
      "outputs": []
    },
    {
      "cell_type": "code",
      "metadata": {
        "id": "x5gvIOQNpSM1",
        "colab_type": "code",
        "colab": {}
      },
      "source": [
        "#!git reset --hard"
      ],
      "execution_count": 0,
      "outputs": []
    },
    {
      "cell_type": "code",
      "metadata": {
        "id": "_xMtQPlCBwgk",
        "colab_type": "code",
        "colab": {}
      },
      "source": [
        "#cd .."
      ],
      "execution_count": 0,
      "outputs": []
    },
    {
      "cell_type": "code",
      "metadata": {
        "id": "VGUycY7Hus8i",
        "colab_type": "code",
        "outputId": "6fdff704-432a-403d-f7c4-8c574e70dfe3",
        "colab": {
          "base_uri": "https://localhost:8080/",
          "height": 34
        }
      },
      "source": [
        "! git pull "
      ],
      "execution_count": 11,
      "outputs": [
        {
          "output_type": "stream",
          "text": [
            "Already up to date.\n"
          ],
          "name": "stdout"
        }
      ]
    },
    {
      "cell_type": "code",
      "metadata": {
        "id": "Cmptm_7suMVY",
        "colab_type": "code",
        "colab": {}
      },
      "source": [
        "#!pip install -r requirements.txt"
      ],
      "execution_count": 0,
      "outputs": []
    },
    {
      "cell_type": "code",
      "metadata": {
        "id": "fL5D6rlMpHe-",
        "colab_type": "code",
        "outputId": "29792630-7189-4893-87dc-6a4afdd5d5ed",
        "colab": {
          "base_uri": "https://localhost:8080/",
          "height": 34
        }
      },
      "source": [
        "cd src"
      ],
      "execution_count": 13,
      "outputs": [
        {
          "output_type": "stream",
          "text": [
            "/content/drive/My Drive/RL-NLP/src\n"
          ],
          "name": "stdout"
        }
      ]
    },
    {
      "cell_type": "markdown",
      "metadata": {
        "id": "akfeeBEUKzne",
        "colab_type": "text"
      },
      "source": [
        "# Run"
      ]
    },
    {
      "cell_type": "markdown",
      "metadata": {
        "id": "GJFanXQy08DJ",
        "colab_type": "text"
      },
      "source": [
        "\n",
        "##Arguments to run the script:\n",
        "\n",
        "**Generic arguments:**\n",
        "*   data_path: str: path where h5 files are located\n",
        "*   out_path: str: path where the output files will be written\n",
        "* max_len: int: maximum length of the target sentences and the sentences produced by the agent \n",
        "* logger_level:str : level of the logger\n",
        "* num_episodes_train:int: number of episodes for training\n",
        "*  num_episodes_test:int: number of episodes for testing\n",
        "* log_interval:int: interval of episodes for logging\n",
        "* reward:str: type of reward [levenshtein: normalized levenshtein distance, levenshtein_: levenshtein distance] \n",
        "* model:str: predefined model for the policy [lstm: for text and image, lstm_word: for text(lm)]\n",
        "* update_every:int: call the learn function every update_every\n",
        "* debug:int: if specified the number of images used for training will be the value of debug\n",
        "* agent:str: type of RL algorithm used (PPO, REINFORCE)\n",
        "\n",
        "**Pretraining:**\n",
        "\n",
        "* pretrain:int: pretrain the model to get a learned language model using the RL method\n",
        "* pretrained_path:str: if specified, the language model will be loaded from this path to truncate the action space\n",
        "* num_truncated:int: number of top words of the language model to truncate the action space\n",
        "\n",
        "**RL Algorithm:**\n",
        "\n",
        "PPO\n",
        "* eps_clip:float float: epsilon clip \n",
        "* K_epochs:int: number of epochs of learning for each call to update\n",
        "* entropy_coeff:float: coefficient of the entropy bonus of the loss\n",
        "\n",
        "REINFORCE\n",
        "* lr:float: learning rate\n",
        "\n",
        "**Image**\n",
        "* kernel_size:int: the size of the kernel used for convolution on images features from VGG\n",
        "* stride:int: stride for the convolution (no maxpooling)\n",
        "* num_filters:int: number of filters\n",
        "\n",
        "**Text**\n",
        "* word_emb_size:int: size of the embedding of the words\n",
        "* hidden_size:int: size of the hidden state"
      ]
    },
    {
      "cell_type": "code",
      "metadata": {
        "id": "Ly7YNK7uEZla",
        "colab_type": "code",
        "colab": {}
      },
      "source": [
        "data_path= \"../data/\"\n",
        "out_path= \"../output/truncated_0\"\n",
        "max_len= 5\n",
        "logger_level= \"DEBUG\" \n",
        "num_episodes_train=2000\n",
        "log_interval= 1 \n",
        "reward = \"levenshtein_\"\n",
        "model=\"lstm\"\n",
        "update_every=20\n",
        "K_epochs= 10 \n",
        "entropy_coeff=0.01 \n",
        "eps_clip =0.02 \n",
        "pretrain=0 \n",
        "debug= 1\n",
        "num_episodes_test =100\n",
        "agent =\"PPO\"\n",
        "hidden_size=24\n",
        "num_truncated=10"
      ],
      "execution_count": 0,
      "outputs": []
    },
    {
      "cell_type": "markdown",
      "metadata": {
        "id": "Y4ruO0obO5Om",
        "colab_type": "text"
      },
      "source": [
        "## Train the language model\n"
      ]
    },
    {
      "cell_type": "code",
      "metadata": {
        "id": "DUN5ymW7G7wA",
        "colab_type": "code",
        "outputId": "4b73be5f-a72e-417e-98ae-f41a34153916",
        "colab": {
          "base_uri": "https://localhost:8080/",
          "height": 34
        }
      },
      "source": [
        "!python -m scripts.run -data_path $data_path -out_path $out_path -max_len 10 -logger_level $logger_level -num_episodes_train 2000 -log_interval $log_interval -reward $reward -model lstm_word -update_every $update_every -K_epochs $K_epochs -entropy_coeff $entropy_coeff -eps_clip $eps_clip -pretrain 1 -debug 0 -num_episodes_test $num_episodes_test -agent $agent -hidden_size $hidden_size"
      ],
      "execution_count": 16,
      "outputs": [
        {
          "output_type": "stream",
          "text": [
            "2020-06-10 19:56:27.239026: I tensorflow/stream_executor/platform/default/dso_loader.cc:44] Successfully opened dynamic library libcudart.so.10.1\n"
          ],
          "name": "stdout"
        }
      ]
    },
    {
      "cell_type": "code",
      "metadata": {
        "id": "UPAlmCRImTPL",
        "colab_type": "code",
        "colab": {}
      },
      "source": [
        "#save the last folder, the one of the language model\n",
        "LM=!ls -dt -- $out_path/experiments/pretrain/* | head -n1\n",
        "LM=LM[0]"
      ],
      "execution_count": 0,
      "outputs": []
    },
    {
      "cell_type": "code",
      "metadata": {
        "id": "89iGGCQRGe2S",
        "colab_type": "code",
        "colab": {}
      },
      "source": [
        "pretrained_path=\"{}/model.pth\".format(LM)"
      ],
      "execution_count": 0,
      "outputs": []
    },
    {
      "cell_type": "markdown",
      "metadata": {
        "id": "M-jv-ATn4X64",
        "colab_type": "text"
      },
      "source": [
        "## One image experiment: Truncated vs Baseline"
      ]
    },
    {
      "cell_type": "code",
      "metadata": {
        "id": "Fovj6fRRNB1y",
        "colab_type": "code",
        "colab": {}
      },
      "source": [
        "num_episodes_train=2500\n",
        "debug=1\n",
        "max_len=5"
      ],
      "execution_count": 0,
      "outputs": []
    },
    {
      "cell_type": "markdown",
      "metadata": {
        "id": "rmwdIUkMw7Pd",
        "colab_type": "text"
      },
      "source": [
        "### Train the agent from scratch with the truncated action space given by the language model"
      ]
    },
    {
      "cell_type": "code",
      "metadata": {
        "id": "JkGBO59DuvEC",
        "colab_type": "code",
        "colab": {}
      },
      "source": [
        "train_cmd_truncated=\"python -m scripts.run -data_path {} -out_path {} -max_len {} -logger_level {} -num_episodes_train {} -log_interval {} -reward {} -model {} -update_every {} -K_epochs {} -entropy_coeff {} -eps_clip {} -pretrain {} -debug {} -num_episodes_test {} -agent {} -hidden_size {} -pretrained_path {} -num_truncated {}\".format(data_path,out_path,max_len,logger_level,num_episodes_train,log_interval,reward,model,update_every,K_epochs,entropy_coeff,eps_clip,pretrain,debug,num_episodes_test,agent,hidden_size,pretrained_path,num_truncated)"
      ],
      "execution_count": 0,
      "outputs": []
    },
    {
      "cell_type": "code",
      "metadata": {
        "id": "1hEWjb27DSNA",
        "colab_type": "code",
        "outputId": "3c82525f-6f1b-43b1-befa-3b6baa797412",
        "colab": {
          "base_uri": "https://localhost:8080/",
          "height": 80
        }
      },
      "source": [
        "for i in range(3):\n",
        "  !$train_cmd_truncated"
      ],
      "execution_count": 0,
      "outputs": [
        {
          "output_type": "stream",
          "text": [
            "2020-06-10 20:04:30.620489: I tensorflow/stream_executor/platform/default/dso_loader.cc:44] Successfully opened dynamic library libcudart.so.10.1\n",
            "2020-06-10 20:06:35.428104: I tensorflow/stream_executor/platform/default/dso_loader.cc:44] Successfully opened dynamic library libcudart.so.10.1\n"
          ],
          "name": "stdout"
        }
      ]
    },
    {
      "cell_type": "markdown",
      "metadata": {
        "id": "Bet5YuB6x8O4",
        "colab_type": "text"
      },
      "source": [
        "### Train the baseline agent from scratch with no language model\n",
        "\n",
        "\n"
      ]
    },
    {
      "cell_type": "code",
      "metadata": {
        "id": "tuE-1ErGoAHq",
        "colab_type": "code",
        "colab": {}
      },
      "source": [
        "train_cmd_baseline=\"python -m scripts.run -data_path {} -out_path {} -max_len {} -logger_level {} -num_episodes_train {} -log_interval {} -reward {} -model {} -update_every {} -K_epochs {} -entropy_coeff {} -eps_clip {} -pretrain {} -debug {} -num_episodes_test {} -agent {} -hidden_size {} \".format(data_path,out_path,max_len,logger_level,num_episodes_train,log_interval,reward,model,update_every,K_epochs,entropy_coeff,eps_clip,pretrain,debug,num_episodes_test,agent,hidden_size)"
      ],
      "execution_count": 0,
      "outputs": []
    },
    {
      "cell_type": "code",
      "metadata": {
        "id": "r-bjJ6PzzodF",
        "colab_type": "code",
        "colab": {}
      },
      "source": [
        "for i in range(3):\n",
        "  !$train_cmd_baseline"
      ],
      "execution_count": 0,
      "outputs": []
    },
    {
      "cell_type": "markdown",
      "metadata": {
        "id": "EJl6GZWMVcjW",
        "colab_type": "text"
      },
      "source": [
        "# Visualize results"
      ]
    },
    {
      "cell_type": "code",
      "metadata": {
        "id": "t07hZ_sPD-4x",
        "colab_type": "code",
        "colab": {}
      },
      "source": [
        "%tensorboard --logdir $out_path"
      ],
      "execution_count": 0,
      "outputs": []
    },
    {
      "cell_type": "code",
      "metadata": {
        "id": "J2YlvsXzvOZL",
        "colab_type": "code",
        "colab": {}
      },
      "source": [
        ""
      ],
      "execution_count": 0,
      "outputs": []
    }
  ]
}